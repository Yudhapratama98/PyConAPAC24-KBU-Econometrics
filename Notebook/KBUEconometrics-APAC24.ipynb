{
 "cells": [
  {
   "cell_type": "markdown",
   "metadata": {},
   "source": [
    "To answer the question, we’ll use our tool—our weapon, of course, is Python. In this case, we need GEE (Google Earth Engine) and Geemap. "
   ]
  },
  {
   "cell_type": "markdown",
   "metadata": {},
   "source": [
    "# Preparation"
   ]
  },
  {
   "cell_type": "markdown",
   "metadata": {},
   "source": [
    "**GEE Key Concepts :**\n",
    "GEE is like watching Netflix—it's streaming. You can choose which episode or chapter from any movie without downloading, we no need to worry about storage or switching websites in your browser. We have access to an enormous amount of data. The key concepts are:\n",
    "\n",
    "1. Image: The fundamental raster data type in Earth Engine. *an image*\n",
    "2. ImageCollection: A stack or time series of images. . *Collection of image*\n",
    "3. Geometry:  The fundamental vector data type in Earth Engine. *u can call it lines*\n",
    "4. Feature : A geometry with attributes. *Line with attributes*\n",
    "5. FeatureCollection: A set of features. *A bunch of lines with attributes*"
   ]
  },
  {
   "cell_type": "markdown",
   "metadata": {},
   "source": [
    "## Import Libraries"
   ]
  },
  {
   "cell_type": "code",
   "execution_count": 82,
   "metadata": {},
   "outputs": [
    {
     "data": {
      "text/html": [
       "\n",
       "            <style>\n",
       "                .geemap-dark {\n",
       "                    --jp-widgets-color: white;\n",
       "                    --jp-widgets-label-color: white;\n",
       "                    --jp-ui-font-color1: white;\n",
       "                    --jp-layout-color2: #454545;\n",
       "                    background-color: #383838;\n",
       "                }\n",
       "\n",
       "                .geemap-dark .jupyter-button {\n",
       "                    --jp-layout-color3: #383838;\n",
       "                }\n",
       "\n",
       "                .geemap-colab {\n",
       "                    background-color: var(--colab-primary-surface-color, white);\n",
       "                }\n",
       "\n",
       "                .geemap-colab .jupyter-button {\n",
       "                    --jp-layout-color3: var(--colab-primary-surface-color, white);\n",
       "                }\n",
       "            </style>\n",
       "            "
      ],
      "text/plain": [
       "<IPython.core.display.HTML object>"
      ]
     },
     "metadata": {},
     "output_type": "display_data"
    }
   ],
   "source": [
    "import ee\n",
    "import geemap\n",
    "import pandas as pd\n",
    "\n",
    "ee.Authenticate()\n",
    "ee.Initialize(project='ee-itb-kbu')"
   ]
  },
  {
   "cell_type": "markdown",
   "metadata": {},
   "source": [
    "## Set Area of Interest"
   ]
  },
  {
   "cell_type": "markdown",
   "metadata": {},
   "source": [
    "Now, let’s set the Area of Interest. You can get the data from other sources, like the ArcGIS map server from KLHK, or simply draw your own boundaries in ArcGIS or on a site like geojson.io."
   ]
  },
  {
   "cell_type": "code",
   "execution_count": null,
   "metadata": {},
   "outputs": [],
   "source": [
    "aoi_kbs = geemap.geojson_to_ee(\"/Users/yudhapratama/Documents/APAC/minidemo/Data/KBS.geojson\")\n",
    "aoi = geemap.geojson_to_ee(\"/Users/yudhapratama/Documents/APAC/minidemo/Data/KBU.geojson\")"
   ]
  },
  {
   "cell_type": "markdown",
   "metadata": {},
   "source": [
    "## Functions"
   ]
  },
  {
   "cell_type": "markdown",
   "metadata": {},
   "source": [
    "Run code cell below. This code is based on Google Earth Engine documentation, with a small modification to standardize band names across Landsat 9 through Landsat 5 for consistency."
   ]
  },
  {
   "cell_type": "code",
   "execution_count": 83,
   "metadata": {},
   "outputs": [
    {
     "data": {
      "text/html": [
       "\n",
       "            <style>\n",
       "                .geemap-dark {\n",
       "                    --jp-widgets-color: white;\n",
       "                    --jp-widgets-label-color: white;\n",
       "                    --jp-ui-font-color1: white;\n",
       "                    --jp-layout-color2: #454545;\n",
       "                    background-color: #383838;\n",
       "                }\n",
       "\n",
       "                .geemap-dark .jupyter-button {\n",
       "                    --jp-layout-color3: #383838;\n",
       "                }\n",
       "\n",
       "                .geemap-colab {\n",
       "                    background-color: var(--colab-primary-surface-color, white);\n",
       "                }\n",
       "\n",
       "                .geemap-colab .jupyter-button {\n",
       "                    --jp-layout-color3: var(--colab-primary-surface-color, white);\n",
       "                }\n",
       "            </style>\n",
       "            "
      ],
      "text/plain": [
       "<IPython.core.display.HTML object>"
      ]
     },
     "metadata": {},
     "output_type": "display_data"
    }
   ],
   "source": [
    "def apply_scale_factorsOLI(image):\n",
    "  optical_bands = image.select('SR_B.').multiply(0.0000275).add(-0.2)\n",
    "  thermal_bands = image.select('ST_B.*').multiply(0.00341802).add(149.0)\n",
    "  return image.addBands(optical_bands, None, True).addBands(\n",
    "      thermal_bands, None, True\n",
    "  )\n",
    "def apply_scale_factorsOTM(image):\n",
    "  optical_bands = image.select('SR_B.').multiply(0.0000275).add(-0.2)\n",
    "  thermal_bands = image.select('ST_B6').multiply(0.00341802).add(149.0)\n",
    "  return image.addBands(optical_bands, None, True).addBands(\n",
    "      thermal_bands, None, True\n",
    "  )\n",
    "def maskL5sr(image):\n",
    "    # Dapatkan bitmask QA\n",
    "    qa = image.select('QA_PIXEL')\n",
    "    cloud = qa.bitwiseAnd(1 << 5).Or(qa.bitwiseAnd(1 << 3))\n",
    "    shadow = qa.bitwiseAnd(1 << 4)\n",
    "    mask = cloud.Or(shadow)\n",
    "    return image.updateMask(mask.Not())\n",
    "def maskC1(image):\n",
    "    # Dapatkan bitmask QA\n",
    "    qa = image.select('BQA')\n",
    "    cloud = qa.bitwiseAnd(1 << 5).Or(qa.bitwiseAnd(1 << 3))\n",
    "    shadow = qa.bitwiseAnd(1 << 4)\n",
    "    mask = cloud.Or(shadow)\n",
    "    return image.updateMask(mask.Not())\n",
    "def renameBandsOLI(image):\n",
    "    bands = ['SR_B2', 'SR_B3', 'SR_B4', 'SR_B5', 'SR_B6', 'SR_B7']\n",
    "    new_bands = ['B', 'G', 'R', 'NIR', 'SWIR1', 'SWIR2']\n",
    "    return image.select(bands).rename(new_bands)\n",
    "    \n",
    "def renameBandsOTM(image):\n",
    "    bands = ['SR_B1', 'SR_B2', 'SR_B3', 'SR_B4', 'SR_B5', 'SR_B7']\n",
    "    new_bands = ['B', 'G', 'R', 'NIR', 'SWIR1', 'SWIR2',]\n",
    "    return image.select(bands).rename(new_bands)\n",
    "def getCompositeMedian(start_year, end_year):\n",
    "    start_date = f'{start_year}-01-01'\n",
    "    end_date = f'{end_year}-12-31'\n",
    "    \n",
    "    l9 = (ee.ImageCollection('LANDSAT/LC09/C02/T1_L2')\n",
    "          .filterBounds(aoi)\n",
    "          .filterDate(start_date, end_date)\n",
    "          .map(maskL5sr).map(apply_scale_factorsOLI).map(renameBandsOLI))\n",
    "    l8 = (ee.ImageCollection('LANDSAT/LC08/C02/T1_L2')\n",
    "          .filterBounds(aoi)\n",
    "          .filterDate(start_date, end_date)\n",
    "          .map(maskL5sr).map(apply_scale_factorsOLI).map(renameBandsOLI))\n",
    "    l7 = (ee.ImageCollection('LANDSAT/LE07/C02/T1_L2')\n",
    "          .filterBounds(aoi)\n",
    "          .filterDate(start_date, end_date)\n",
    "          .map(maskL5sr).map(apply_scale_factorsOTM).map(renameBandsOTM))\n",
    "    l5 = (ee.ImageCollection('LANDSAT/LT05/C02/T1_L2')\n",
    "          .filterBounds(aoi)\n",
    "          .filterDate(start_date, end_date)\n",
    "          .map(maskL5sr).map(apply_scale_factorsOTM).map(renameBandsOTM))\n",
    "    l4 = (ee.ImageCollection('LANDSAT/LT04/C02/T1_L2')\n",
    "          .filterBounds(aoi)\n",
    "          .filterDate(start_date, end_date)\n",
    "          .map(maskL5sr).map(apply_scale_factorsOTM).map(renameBandsOTM))\n",
    "    combined = l8.merge(l7).merge(l5).merge(l9).merge(l4).sort('date')\n",
    "    compositeMedian = combined.median().clip(aoi)\n",
    "    \n",
    "    return compositeMedian"
   ]
  },
  {
   "cell_type": "markdown",
   "metadata": {},
   "source": [
    "# Geemap Introduction"
   ]
  },
  {
   "cell_type": "markdown",
   "metadata": {},
   "source": [
    "Now, Here's how to use Geemap. Initialize the map object with geemap.Map() and display it by calling \"m\". The BaseMap will appear\n"
   ]
  },
  {
   "cell_type": "code",
   "execution_count": 84,
   "metadata": {},
   "outputs": [
    {
     "data": {
      "text/html": [
       "\n",
       "            <style>\n",
       "                .geemap-dark {\n",
       "                    --jp-widgets-color: white;\n",
       "                    --jp-widgets-label-color: white;\n",
       "                    --jp-ui-font-color1: white;\n",
       "                    --jp-layout-color2: #454545;\n",
       "                    background-color: #383838;\n",
       "                }\n",
       "\n",
       "                .geemap-dark .jupyter-button {\n",
       "                    --jp-layout-color3: #383838;\n",
       "                }\n",
       "\n",
       "                .geemap-colab {\n",
       "                    background-color: var(--colab-primary-surface-color, white);\n",
       "                }\n",
       "\n",
       "                .geemap-colab .jupyter-button {\n",
       "                    --jp-layout-color3: var(--colab-primary-surface-color, white);\n",
       "                }\n",
       "            </style>\n",
       "            "
      ],
      "text/plain": [
       "<IPython.core.display.HTML object>"
      ]
     },
     "metadata": {},
     "output_type": "display_data"
    },
    {
     "data": {
      "application/vnd.jupyter.widget-view+json": {
       "model_id": "baa989a6b15b46b8817210b78a45c18c",
       "version_major": 2,
       "version_minor": 0
      },
      "text/plain": [
       "Map(center=[0, 0], controls=(WidgetControl(options=['position', 'transparent_bg'], widget=SearchDataGUI(childr…"
      ]
     },
     "execution_count": 84,
     "metadata": {},
     "output_type": "execute_result"
    }
   ],
   "source": [
    "m = geemap.Map()\n",
    "m"
   ]
  },
  {
   "cell_type": "markdown",
   "metadata": {},
   "source": [
    "## Basic Map"
   ]
  },
  {
   "cell_type": "code",
   "execution_count": 85,
   "metadata": {},
   "outputs": [
    {
     "data": {
      "text/html": [
       "\n",
       "            <style>\n",
       "                .geemap-dark {\n",
       "                    --jp-widgets-color: white;\n",
       "                    --jp-widgets-label-color: white;\n",
       "                    --jp-ui-font-color1: white;\n",
       "                    --jp-layout-color2: #454545;\n",
       "                    background-color: #383838;\n",
       "                }\n",
       "\n",
       "                .geemap-dark .jupyter-button {\n",
       "                    --jp-layout-color3: #383838;\n",
       "                }\n",
       "\n",
       "                .geemap-colab {\n",
       "                    background-color: var(--colab-primary-surface-color, white);\n",
       "                }\n",
       "\n",
       "                .geemap-colab .jupyter-button {\n",
       "                    --jp-layout-color3: var(--colab-primary-surface-color, white);\n",
       "                }\n",
       "            </style>\n",
       "            "
      ],
      "text/plain": [
       "<IPython.core.display.HTML object>"
      ]
     },
     "metadata": {},
     "output_type": "display_data"
    },
    {
     "data": {
      "text/html": [
       "<div><style>:root {\n",
       "  --font-color-primary: var(--jp-content-font-color0, rgba(0, 0, 0, 1));\n",
       "  --font-color-secondary: var(--jp-content-font-color2, rgba(0, 0, 0, 0.6));\n",
       "  --font-color-accent: rgba(123, 31, 162, 1);\n",
       "  --border-color: var(--jp-border-color2, #e0e0e0);\n",
       "  --background-color: var(--jp-layout-color0, white);\n",
       "  --background-color-row-even: var(--jp-layout-color1, white);\n",
       "  --background-color-row-odd: var(--jp-layout-color2, #eeeeee);\n",
       "}\n",
       "\n",
       "html[theme=\"dark\"],\n",
       "body[data-theme=\"dark\"],\n",
       "body.vscode-dark {\n",
       "  --font-color-primary: rgba(255, 255, 255, 1);\n",
       "  --font-color-secondary: rgba(255, 255, 255, 0.6);\n",
       "  --font-color-accent: rgb(173, 132, 190);\n",
       "  --border-color: #2e2e2e;\n",
       "  --background-color: #111111;\n",
       "  --background-color-row-even: #111111;\n",
       "  --background-color-row-odd: #313131;\n",
       "}\n",
       "\n",
       ".ee {\n",
       "  padding: 1em;\n",
       "  line-height: 1.5em;\n",
       "  min-width: 300px;\n",
       "  max-width: 1200px;\n",
       "  overflow-y: scroll;\n",
       "  max-height: 600px;\n",
       "  border: 1px solid var(--border-color);\n",
       "  font-family: monospace;\n",
       "}\n",
       "\n",
       ".ee li {\n",
       "  list-style-type: none;\n",
       "}\n",
       "\n",
       ".ee ul {\n",
       "  padding-left: 1.5em !important;\n",
       "  margin: 0;\n",
       "}\n",
       "\n",
       ".ee > ul {\n",
       "  padding-left: 0 !important;\n",
       "}\n",
       "\n",
       ".ee-open,\n",
       ".ee-shut {\n",
       "  color: var(--font-color-secondary);\n",
       "  cursor: pointer;\n",
       "  margin: 0;\n",
       "}\n",
       "\n",
       ".ee-open:hover,\n",
       ".ee-shut:hover {\n",
       "  color: var(--font-color-primary);\n",
       "}\n",
       "\n",
       ".ee-k {\n",
       "  color: var(--font-color-accent);\n",
       "  margin-right: 6px;\n",
       "}\n",
       "\n",
       ".ee-v {\n",
       "  color: var(--font-color-primary);\n",
       "}\n",
       "\n",
       ".ee-toggle {\n",
       "  display: none;\n",
       "}\n",
       "\n",
       ".ee-shut + ul {\n",
       "  display: none;\n",
       "}\n",
       "\n",
       ".ee-open + ul {\n",
       "  display: block;\n",
       "}\n",
       "\n",
       ".ee-shut::before {\n",
       "  display: inline-block;\n",
       "  content: \"▼\";\n",
       "  margin-right: 6px;\n",
       "  transform: rotate(-90deg);\n",
       "  transition: transform 0.2s;\n",
       "}\n",
       "\n",
       ".ee-open::before {\n",
       "  transform: rotate(0deg);\n",
       "  display: inline-block;\n",
       "  content: \"▼\";\n",
       "  margin-right: 6px;\n",
       "  transition: transform 0.2s;\n",
       "}\n",
       "</style><div class='ee'><ul><li><label class='ee-shut'>Image USGS/SRTMGL1_003 (1 band)<input type='checkbox' class='ee-toggle'></label><ul><li><span class='ee-k'>type:</span><span class='ee-v'>Image</span></li><li><span class='ee-k'>id:</span><span class='ee-v'>USGS/SRTMGL1_003</span></li><li><span class='ee-k'>version:</span><span class='ee-v'>1641990767055141</span></li><li><label class='ee-shut'>bands: List (1 element)<input type='checkbox' class='ee-toggle'></label><ul><li><label class='ee-shut'>0: \"elevation\", signed int16, EPSG:4326, 1296001x417601 px<input type='checkbox' class='ee-toggle'></label><ul><li><span class='ee-k'>id:</span><span class='ee-v'>elevation</span></li><li><span class='ee-k'>crs:</span><span class='ee-v'>EPSG:4326</span></li><li><label class='ee-shut'>crs_transform: List (6 elements)<input type='checkbox' class='ee-toggle'></label><ul><li><span class='ee-k'>0:</span><span class='ee-v'>0.0002777777777777778</span></li><li><span class='ee-k'>1:</span><span class='ee-v'>0</span></li><li><span class='ee-k'>2:</span><span class='ee-v'>-180.0001388888889</span></li><li><span class='ee-k'>3:</span><span class='ee-v'>0</span></li><li><span class='ee-k'>4:</span><span class='ee-v'>-0.0002777777777777778</span></li><li><span class='ee-k'>5:</span><span class='ee-v'>60.00013888888889</span></li></ul></li><li><label class='ee-shut'>data_type: signed int16<input type='checkbox' class='ee-toggle'></label><ul><li><span class='ee-k'>type:</span><span class='ee-v'>PixelType</span></li><li><span class='ee-k'>max:</span><span class='ee-v'>32767</span></li><li><span class='ee-k'>min:</span><span class='ee-v'>-32768</span></li><li><span class='ee-k'>precision:</span><span class='ee-v'>int</span></li></ul></li><li><label class='ee-shut'>dimensions: [1296001, 417601]<input type='checkbox' class='ee-toggle'></label><ul><li><span class='ee-k'>0:</span><span class='ee-v'>1296001</span></li><li><span class='ee-k'>1:</span><span class='ee-v'>417601</span></li></ul></li></ul></li></ul></li><li><label class='ee-shut'>properties: Object (24 properties)<input type='checkbox' class='ee-toggle'></label><ul><li><label class='ee-shut'>date_range: [950227200000, 951177600000]<input type='checkbox' class='ee-toggle'></label><ul><li><span class='ee-k'>0:</span><span class='ee-v'>950227200000</span></li><li><span class='ee-k'>1:</span><span class='ee-v'>951177600000</span></li></ul></li><li><span class='ee-k'>description:</span><span class='ee-v'><p>The Shuttle Radar Topography Mission (SRTM, see <a href=\"https://onlinelibrary.wiley.com/doi/10.1029/2005RG000183/full\">Farr\n",
       "et al. 2007</a>)\n",
       "digital elevation data is an international research effort that\n",
       "obtained digital elevation models on a near-global scale. This\n",
       "SRTM V3 product (SRTM Plus) is provided by NASA JPL\n",
       "at a resolution of 1 arc-second (approximately 30m).</p><p>This dataset has undergone a void-filling process using open-source data\n",
       "(ASTER GDEM2, GMTED2010, and NED), as opposed to other versions that\n",
       "contain voids or have been void-filled with commercial sources.\n",
       "For more information on the different versions see the\n",
       "<a href=\"https://lpdaac.usgs.gov/documents/13/SRTM_Quick_Guide.pdf\">SRTM Quick Guide</a>.</p><p>Documentation:</p><ul><li><p><a href=\"https://lpdaac.usgs.gov/documents/179/SRTM_User_Guide_V3.pdf\">User&#39;s Guide</a></p></li><li><p><a href=\"https://lpdaac.usgs.gov/documents/13/SRTM_Quick_Guide.pdf\">General Documentation</a></p></li><li><p><a href=\"https://doi.org/10.1029/2005RG000183\">Algorithm Theoretical Basis Document (ATBD)</a></p></li></ul><p><b>Provider: <a href=\"https://cmr.earthdata.nasa.gov/search/concepts/C1000000240-LPDAAC_ECS.html\">NASA / USGS / JPL-Caltech</a></b><br><p><b>Bands</b><table class=\"eecat\"><tr><th scope=\"col\">Name</th><th scope=\"col\">Description</th></tr><tr><td>elevation</td><td><p>Elevation</p></td></tr></table><p><b>Terms of Use</b><br><p>Unless otherwise noted, images and video on JPL public\n",
       "web sites (public sites ending with a jpl.nasa.gov address) may\n",
       "be used for any purpose without prior permission. For more information\n",
       "and exceptions visit the <a href=\"https://www.jpl.nasa.gov/imagepolicy/\">JPL Image Use Policy site</a>.</p><p><b>Suggested citation(s)</b><ul><li><p>Farr, T.G., Rosen, P.A., Caro, E., Crippen, R., Duren, R., Hensley,\n",
       "S., Kobrick, M., Paller, M., Rodriguez, E., Roth, L., Seal, D.,\n",
       "Shaffer, S., Shimada, J., Umland, J., Werner, M., Oskin, M., Burbank,\n",
       "D., and Alsdorf, D.E., 2007, The shuttle radar topography mission:\n",
       "Reviews of Geophysics, v. 45, no. 2, RG2004, at\n",
       "<a href=\"https://doi.org/10.1029/2005RG000183\">https://doi.org/10.1029/2005RG000183</a>.</p></li></ul><style>\n",
       "  table.eecat {\n",
       "  border: 1px solid black;\n",
       "  border-collapse: collapse;\n",
       "  font-size: 13px;\n",
       "  }\n",
       "  table.eecat td, tr, th {\n",
       "  text-align: left; vertical-align: top;\n",
       "  border: 1px solid gray; padding: 3px;\n",
       "  }\n",
       "  td.nobreak { white-space: nowrap; }\n",
       "</style></span></li><li><label class='ee-shut'>keywords: List (7 elements)<input type='checkbox' class='ee-toggle'></label><ul><li><span class='ee-k'>0:</span><span class='ee-v'>dem</span></li><li><span class='ee-k'>1:</span><span class='ee-v'>elevation</span></li><li><span class='ee-k'>2:</span><span class='ee-v'>geophysical</span></li><li><span class='ee-k'>3:</span><span class='ee-v'>nasa</span></li><li><span class='ee-k'>4:</span><span class='ee-v'>srtm</span></li><li><span class='ee-k'>5:</span><span class='ee-v'>topography</span></li><li><span class='ee-k'>6:</span><span class='ee-v'>usgs</span></li></ul></li><li><span class='ee-k'>period:</span><span class='ee-v'>0</span></li><li><label class='ee-shut'>product_tags: List (5 elements)<input type='checkbox' class='ee-toggle'></label><ul><li><span class='ee-k'>0:</span><span class='ee-v'>srtm</span></li><li><span class='ee-k'>1:</span><span class='ee-v'>elevation</span></li><li><span class='ee-k'>2:</span><span class='ee-v'>topography</span></li><li><span class='ee-k'>3:</span><span class='ee-v'>dem</span></li><li><span class='ee-k'>4:</span><span class='ee-v'>geophysical</span></li></ul></li><li><span class='ee-k'>provider:</span><span class='ee-v'>NASA / USGS / JPL-Caltech</span></li><li><span class='ee-k'>provider_url:</span><span class='ee-v'>https://cmr.earthdata.nasa.gov/search/concepts/C1000000240-LPDAAC_ECS.html</span></li><li><span class='ee-k'>sample:</span><span class='ee-v'>https://mw1.google.com/ges/dd/images/SRTM90_V4_sample.png</span></li><li><label class='ee-shut'>source_tags: ['nasa', 'usgs']<input type='checkbox' class='ee-toggle'></label><ul><li><span class='ee-k'>0:</span><span class='ee-v'>nasa</span></li><li><span class='ee-k'>1:</span><span class='ee-v'>usgs</span></li></ul></li><li><span class='ee-k'>system:asset_size:</span><span class='ee-v'>132792638252</span></li><li><span class='ee-k'>system:visualization_0_bands:</span><span class='ee-v'>elevation</span></li><li><span class='ee-k'>system:visualization_0_gamma:</span><span class='ee-v'>1.6</span></li><li><span class='ee-k'>system:visualization_0_max:</span><span class='ee-v'>6000.0</span></li><li><span class='ee-k'>system:visualization_0_min:</span><span class='ee-v'>0.0</span></li><li><span class='ee-k'>system:visualization_0_name:</span><span class='ee-v'>Elevation</span></li><li><label class='ee-shut'>tags: List (7 elements)<input type='checkbox' class='ee-toggle'></label><ul><li><span class='ee-k'>0:</span><span class='ee-v'>dem</span></li><li><span class='ee-k'>1:</span><span class='ee-v'>elevation</span></li><li><span class='ee-k'>2:</span><span class='ee-v'>geophysical</span></li><li><span class='ee-k'>3:</span><span class='ee-v'>nasa</span></li><li><span class='ee-k'>4:</span><span class='ee-v'>srtm</span></li><li><span class='ee-k'>5:</span><span class='ee-v'>topography</span></li><li><span class='ee-k'>6:</span><span class='ee-v'>usgs</span></li></ul></li><li><span class='ee-k'>thumb:</span><span class='ee-v'>https://mw1.google.com/ges/dd/images/SRTM90_V4_thumb.png</span></li><li><span class='ee-k'>title:</span><span class='ee-v'>NASA SRTM Digital Elevation 30m</span></li><li><span class='ee-k'>type_name:</span><span class='ee-v'>Image</span></li><li><span class='ee-k'>visualization_0_bands:</span><span class='ee-v'>elevation</span></li><li><span class='ee-k'>visualization_0_gamma:</span><span class='ee-v'>1.6</span></li><li><span class='ee-k'>visualization_0_max:</span><span class='ee-v'>6000.0</span></li><li><span class='ee-k'>visualization_0_min:</span><span class='ee-v'>0.0</span></li><li><span class='ee-k'>visualization_0_name:</span><span class='ee-v'>Elevation</span></li></ul></li></ul></li></ul></div><script>function toggleHeader() {\n",
       "    const parent = this.parentElement;\n",
       "    parent.className = parent.className === \"ee-open\" ? \"ee-shut\" : \"ee-open\";\n",
       "}\n",
       "\n",
       "for (let c of document.getElementsByClassName(\"ee-toggle\")) {\n",
       "    c.onclick = toggleHeader;\n",
       "}</script></div>"
      ],
      "text/plain": [
       "<ee.image.Image at 0x128798f10>"
      ]
     },
     "execution_count": 85,
     "metadata": {},
     "output_type": "execute_result"
    }
   ],
   "source": [
    "image = ee.Image(\"USGS/SRTMGL1_003\").clip(aoi)\n",
    "image"
   ]
  },
  {
   "cell_type": "markdown",
   "metadata": {},
   "source": [
    "We’ll tweak the code a little, move the center, add params and done, we have an elevation image of the North Bandung Zone, a.k.a. KBU.\n",
    "\n"
   ]
  },
  {
   "cell_type": "code",
   "execution_count": 86,
   "metadata": {},
   "outputs": [
    {
     "data": {
      "text/html": [
       "\n",
       "            <style>\n",
       "                .geemap-dark {\n",
       "                    --jp-widgets-color: white;\n",
       "                    --jp-widgets-label-color: white;\n",
       "                    --jp-ui-font-color1: white;\n",
       "                    --jp-layout-color2: #454545;\n",
       "                    background-color: #383838;\n",
       "                }\n",
       "\n",
       "                .geemap-dark .jupyter-button {\n",
       "                    --jp-layout-color3: #383838;\n",
       "                }\n",
       "\n",
       "                .geemap-colab {\n",
       "                    background-color: var(--colab-primary-surface-color, white);\n",
       "                }\n",
       "\n",
       "                .geemap-colab .jupyter-button {\n",
       "                    --jp-layout-color3: var(--colab-primary-surface-color, white);\n",
       "                }\n",
       "            </style>\n",
       "            "
      ],
      "text/plain": [
       "<IPython.core.display.HTML object>"
      ]
     },
     "metadata": {},
     "output_type": "display_data"
    },
    {
     "data": {
      "application/vnd.jupyter.widget-view+json": {
       "model_id": "1216237f499248468764f4893ba1b0c8",
       "version_major": 2,
       "version_minor": 0
      },
      "text/plain": [
       "Map(center=[-6.814744, 107.60981], controls=(WidgetControl(options=['position', 'transparent_bg'], widget=Sear…"
      ]
     },
     "execution_count": 86,
     "metadata": {},
     "output_type": "execute_result"
    }
   ],
   "source": [
    "m = geemap.Map(center=[-6.814744, 107.609810], zoom=12)\n",
    "vis_params = {\n",
    "    \"min\": 0,\n",
    "    \"max\": 6000,\n",
    "    \"palette\": [\"006633\", \"E5FFCC\", \"662A00\", \"D8D8D8\", \"F5F5F5\"],  # 'terrain'\n",
    "}\n",
    "m.add_layer(image, vis_params, \"SRTM\")\n",
    "m"
   ]
  },
  {
   "cell_type": "markdown",
   "metadata": {},
   "source": [
    "# Visualizing"
   ]
  },
  {
   "cell_type": "markdown",
   "metadata": {},
   "source": [
    "## Timelapse"
   ]
  },
  {
   "cell_type": "markdown",
   "metadata": {},
   "source": [
    "Now, let’s move on to our case. we need to understand how changes are, which means we’ll need a lot of images. With Gee, we have an access to plenty of image and geemap make things easier and faster. Now are trying to is creating a timelapse.\n",
    "We’re going to look at the dynamics from 2000 to 2023.\n"
   ]
  },
  {
   "cell_type": "code",
   "execution_count": 87,
   "metadata": {},
   "outputs": [
    {
     "data": {
      "text/html": [
       "\n",
       "            <style>\n",
       "                .geemap-dark {\n",
       "                    --jp-widgets-color: white;\n",
       "                    --jp-widgets-label-color: white;\n",
       "                    --jp-ui-font-color1: white;\n",
       "                    --jp-layout-color2: #454545;\n",
       "                    background-color: #383838;\n",
       "                }\n",
       "\n",
       "                .geemap-dark .jupyter-button {\n",
       "                    --jp-layout-color3: #383838;\n",
       "                }\n",
       "\n",
       "                .geemap-colab {\n",
       "                    background-color: var(--colab-primary-surface-color, white);\n",
       "                }\n",
       "\n",
       "                .geemap-colab .jupyter-button {\n",
       "                    --jp-layout-color3: var(--colab-primary-surface-color, white);\n",
       "                }\n",
       "            </style>\n",
       "            "
      ],
      "text/plain": [
       "<IPython.core.display.HTML object>"
      ]
     },
     "metadata": {},
     "output_type": "display_data"
    },
    {
     "name": "stdout",
     "output_type": "stream",
     "text": [
      "Generating URL...\n",
      "Downloading GIF image from https://earthengine.googleapis.com/v1/projects/ee-itb-kbu/videoThumbnails/b50205797a9037b3fa2bf330731a7816-5d2d70b71ad372b2528e498aa6483792:getPixels\n",
      "Please wait ...\n",
      "The GIF image has been saved to: /Users/yudhapratama/Documents/APAC/minidemo/Notebook/kbuTimelapseRedGreenBlue.gif\n"
     ]
    },
    {
     "data": {
      "application/vnd.jupyter.widget-view+json": {
       "model_id": "ec480654923344eab58ef0b68c6fb523",
       "version_major": 2,
       "version_minor": 0
      },
      "text/plain": [
       "Output()"
      ]
     },
     "metadata": {},
     "output_type": "display_data"
    }
   ],
   "source": [
    "timelapse = geemap.landsat_timelapse(\n",
    "    aoi,\n",
    "    out_gif=\"kbuTimelapseRedGreenBlue.gif\",\n",
    "    start_year=2000,\n",
    "    end_year=2023,\n",
    "    start_date=\"01-01\",\n",
    "    end_date=\"12-31\",\n",
    "    bands=[\"Red\", \"Green\", \"Blue\"] ,\n",
    "    frames_per_second=2,\n",
    "    title=\"Landsat Timelapse\",\n",
    "    progress_bar_color=\"blue\",\n",
    "    mp4=True,\n",
    ")\n",
    "geemap.show_image(timelapse)"
   ]
  },
  {
   "cell_type": "markdown",
   "metadata": {},
   "source": [
    "Here, we can see that the brown areas keep expanding. We don’t see enough detail. We want to know exactly what the land cover looks like—whether it’s forest, buildings, or something else.\n",
    "\n",
    "That’s why we use machine learning to predict and classify land cover.** I’ve already prepared the dataset for this part."
   ]
  },
  {
   "cell_type": "markdown",
   "metadata": {},
   "source": [
    "# Split Map"
   ]
  },
  {
   "cell_type": "markdown",
   "metadata": {},
   "source": [
    "We’ll skip the land cover classification part for now, and here we are at the step where we can clearly see that we’ve successfully classified the land cover. Now, we can easily distinguish the different types of land cover.\n"
   ]
  },
  {
   "cell_type": "code",
   "execution_count": 88,
   "metadata": {},
   "outputs": [
    {
     "data": {
      "text/html": [
       "\n",
       "            <style>\n",
       "                .geemap-dark {\n",
       "                    --jp-widgets-color: white;\n",
       "                    --jp-widgets-label-color: white;\n",
       "                    --jp-ui-font-color1: white;\n",
       "                    --jp-layout-color2: #454545;\n",
       "                    background-color: #383838;\n",
       "                }\n",
       "\n",
       "                .geemap-dark .jupyter-button {\n",
       "                    --jp-layout-color3: #383838;\n",
       "                }\n",
       "\n",
       "                .geemap-colab {\n",
       "                    background-color: var(--colab-primary-surface-color, white);\n",
       "                }\n",
       "\n",
       "                .geemap-colab .jupyter-button {\n",
       "                    --jp-layout-color3: var(--colab-primary-surface-color, white);\n",
       "                }\n",
       "            </style>\n",
       "            "
      ],
      "text/plain": [
       "<IPython.core.display.HTML object>"
      ]
     },
     "metadata": {},
     "output_type": "display_data"
    },
    {
     "data": {
      "text/html": [
       "<div><style>:root {\n",
       "  --font-color-primary: var(--jp-content-font-color0, rgba(0, 0, 0, 1));\n",
       "  --font-color-secondary: var(--jp-content-font-color2, rgba(0, 0, 0, 0.6));\n",
       "  --font-color-accent: rgba(123, 31, 162, 1);\n",
       "  --border-color: var(--jp-border-color2, #e0e0e0);\n",
       "  --background-color: var(--jp-layout-color0, white);\n",
       "  --background-color-row-even: var(--jp-layout-color1, white);\n",
       "  --background-color-row-odd: var(--jp-layout-color2, #eeeeee);\n",
       "}\n",
       "\n",
       "html[theme=\"dark\"],\n",
       "body[data-theme=\"dark\"],\n",
       "body.vscode-dark {\n",
       "  --font-color-primary: rgba(255, 255, 255, 1);\n",
       "  --font-color-secondary: rgba(255, 255, 255, 0.6);\n",
       "  --font-color-accent: rgb(173, 132, 190);\n",
       "  --border-color: #2e2e2e;\n",
       "  --background-color: #111111;\n",
       "  --background-color-row-even: #111111;\n",
       "  --background-color-row-odd: #313131;\n",
       "}\n",
       "\n",
       ".ee {\n",
       "  padding: 1em;\n",
       "  line-height: 1.5em;\n",
       "  min-width: 300px;\n",
       "  max-width: 1200px;\n",
       "  overflow-y: scroll;\n",
       "  max-height: 600px;\n",
       "  border: 1px solid var(--border-color);\n",
       "  font-family: monospace;\n",
       "}\n",
       "\n",
       ".ee li {\n",
       "  list-style-type: none;\n",
       "}\n",
       "\n",
       ".ee ul {\n",
       "  padding-left: 1.5em !important;\n",
       "  margin: 0;\n",
       "}\n",
       "\n",
       ".ee > ul {\n",
       "  padding-left: 0 !important;\n",
       "}\n",
       "\n",
       ".ee-open,\n",
       ".ee-shut {\n",
       "  color: var(--font-color-secondary);\n",
       "  cursor: pointer;\n",
       "  margin: 0;\n",
       "}\n",
       "\n",
       ".ee-open:hover,\n",
       ".ee-shut:hover {\n",
       "  color: var(--font-color-primary);\n",
       "}\n",
       "\n",
       ".ee-k {\n",
       "  color: var(--font-color-accent);\n",
       "  margin-right: 6px;\n",
       "}\n",
       "\n",
       ".ee-v {\n",
       "  color: var(--font-color-primary);\n",
       "}\n",
       "\n",
       ".ee-toggle {\n",
       "  display: none;\n",
       "}\n",
       "\n",
       ".ee-shut + ul {\n",
       "  display: none;\n",
       "}\n",
       "\n",
       ".ee-open + ul {\n",
       "  display: block;\n",
       "}\n",
       "\n",
       ".ee-shut::before {\n",
       "  display: inline-block;\n",
       "  content: \"▼\";\n",
       "  margin-right: 6px;\n",
       "  transform: rotate(-90deg);\n",
       "  transition: transform 0.2s;\n",
       "}\n",
       "\n",
       ".ee-open::before {\n",
       "  transform: rotate(0deg);\n",
       "  display: inline-block;\n",
       "  content: \"▼\";\n",
       "  margin-right: 6px;\n",
       "  transition: transform 0.2s;\n",
       "}\n",
       "</style><div class='ee'><ul><li><label class='ee-shut'>Image (6 bands)<input type='checkbox' class='ee-toggle'></label><ul><li><span class='ee-k'>type:</span><span class='ee-v'>Image</span></li><li><label class='ee-shut'>bands: List (6 elements)<input type='checkbox' class='ee-toggle'></label><ul><li><label class='ee-shut'>0: \"B\", double, EPSG:4326<input type='checkbox' class='ee-toggle'></label><ul><li><span class='ee-k'>id:</span><span class='ee-v'>B</span></li><li><span class='ee-k'>crs:</span><span class='ee-v'>EPSG:4326</span></li><li><label class='ee-shut'>crs_transform: [1, 0, 0, 0, 1, 0]<input type='checkbox' class='ee-toggle'></label><ul><li><span class='ee-k'>0:</span><span class='ee-v'>1</span></li><li><span class='ee-k'>1:</span><span class='ee-v'>0</span></li><li><span class='ee-k'>2:</span><span class='ee-v'>0</span></li><li><span class='ee-k'>3:</span><span class='ee-v'>0</span></li><li><span class='ee-k'>4:</span><span class='ee-v'>1</span></li><li><span class='ee-k'>5:</span><span class='ee-v'>0</span></li></ul></li><li><label class='ee-shut'>data_type: double<input type='checkbox' class='ee-toggle'></label><ul><li><span class='ee-k'>type:</span><span class='ee-v'>PixelType</span></li><li><span class='ee-k'>max:</span><span class='ee-v'>1.6022125</span></li><li><span class='ee-k'>min:</span><span class='ee-v'>-0.2</span></li><li><span class='ee-k'>precision:</span><span class='ee-v'>double</span></li></ul></li></ul></li><li><label class='ee-shut'>1: \"G\", double, EPSG:4326<input type='checkbox' class='ee-toggle'></label><ul><li><span class='ee-k'>id:</span><span class='ee-v'>G</span></li><li><span class='ee-k'>crs:</span><span class='ee-v'>EPSG:4326</span></li><li><label class='ee-shut'>crs_transform: [1, 0, 0, 0, 1, 0]<input type='checkbox' class='ee-toggle'></label><ul><li><span class='ee-k'>0:</span><span class='ee-v'>1</span></li><li><span class='ee-k'>1:</span><span class='ee-v'>0</span></li><li><span class='ee-k'>2:</span><span class='ee-v'>0</span></li><li><span class='ee-k'>3:</span><span class='ee-v'>0</span></li><li><span class='ee-k'>4:</span><span class='ee-v'>1</span></li><li><span class='ee-k'>5:</span><span class='ee-v'>0</span></li></ul></li><li><label class='ee-shut'>data_type: double<input type='checkbox' class='ee-toggle'></label><ul><li><span class='ee-k'>type:</span><span class='ee-v'>PixelType</span></li><li><span class='ee-k'>max:</span><span class='ee-v'>1.6022125</span></li><li><span class='ee-k'>min:</span><span class='ee-v'>-0.2</span></li><li><span class='ee-k'>precision:</span><span class='ee-v'>double</span></li></ul></li></ul></li><li><label class='ee-shut'>2: \"R\", double, EPSG:4326<input type='checkbox' class='ee-toggle'></label><ul><li><span class='ee-k'>id:</span><span class='ee-v'>R</span></li><li><span class='ee-k'>crs:</span><span class='ee-v'>EPSG:4326</span></li><li><label class='ee-shut'>crs_transform: [1, 0, 0, 0, 1, 0]<input type='checkbox' class='ee-toggle'></label><ul><li><span class='ee-k'>0:</span><span class='ee-v'>1</span></li><li><span class='ee-k'>1:</span><span class='ee-v'>0</span></li><li><span class='ee-k'>2:</span><span class='ee-v'>0</span></li><li><span class='ee-k'>3:</span><span class='ee-v'>0</span></li><li><span class='ee-k'>4:</span><span class='ee-v'>1</span></li><li><span class='ee-k'>5:</span><span class='ee-v'>0</span></li></ul></li><li><label class='ee-shut'>data_type: double<input type='checkbox' class='ee-toggle'></label><ul><li><span class='ee-k'>type:</span><span class='ee-v'>PixelType</span></li><li><span class='ee-k'>max:</span><span class='ee-v'>1.6022125</span></li><li><span class='ee-k'>min:</span><span class='ee-v'>-0.2</span></li><li><span class='ee-k'>precision:</span><span class='ee-v'>double</span></li></ul></li></ul></li><li><label class='ee-shut'>3: \"NIR\", double, EPSG:4326<input type='checkbox' class='ee-toggle'></label><ul><li><span class='ee-k'>id:</span><span class='ee-v'>NIR</span></li><li><span class='ee-k'>crs:</span><span class='ee-v'>EPSG:4326</span></li><li><label class='ee-shut'>crs_transform: [1, 0, 0, 0, 1, 0]<input type='checkbox' class='ee-toggle'></label><ul><li><span class='ee-k'>0:</span><span class='ee-v'>1</span></li><li><span class='ee-k'>1:</span><span class='ee-v'>0</span></li><li><span class='ee-k'>2:</span><span class='ee-v'>0</span></li><li><span class='ee-k'>3:</span><span class='ee-v'>0</span></li><li><span class='ee-k'>4:</span><span class='ee-v'>1</span></li><li><span class='ee-k'>5:</span><span class='ee-v'>0</span></li></ul></li><li><label class='ee-shut'>data_type: double<input type='checkbox' class='ee-toggle'></label><ul><li><span class='ee-k'>type:</span><span class='ee-v'>PixelType</span></li><li><span class='ee-k'>max:</span><span class='ee-v'>1.6022125</span></li><li><span class='ee-k'>min:</span><span class='ee-v'>-0.2</span></li><li><span class='ee-k'>precision:</span><span class='ee-v'>double</span></li></ul></li></ul></li><li><label class='ee-shut'>4: \"SWIR1\", double, EPSG:4326<input type='checkbox' class='ee-toggle'></label><ul><li><span class='ee-k'>id:</span><span class='ee-v'>SWIR1</span></li><li><span class='ee-k'>crs:</span><span class='ee-v'>EPSG:4326</span></li><li><label class='ee-shut'>crs_transform: [1, 0, 0, 0, 1, 0]<input type='checkbox' class='ee-toggle'></label><ul><li><span class='ee-k'>0:</span><span class='ee-v'>1</span></li><li><span class='ee-k'>1:</span><span class='ee-v'>0</span></li><li><span class='ee-k'>2:</span><span class='ee-v'>0</span></li><li><span class='ee-k'>3:</span><span class='ee-v'>0</span></li><li><span class='ee-k'>4:</span><span class='ee-v'>1</span></li><li><span class='ee-k'>5:</span><span class='ee-v'>0</span></li></ul></li><li><label class='ee-shut'>data_type: double<input type='checkbox' class='ee-toggle'></label><ul><li><span class='ee-k'>type:</span><span class='ee-v'>PixelType</span></li><li><span class='ee-k'>max:</span><span class='ee-v'>1.6022125</span></li><li><span class='ee-k'>min:</span><span class='ee-v'>-0.2</span></li><li><span class='ee-k'>precision:</span><span class='ee-v'>double</span></li></ul></li></ul></li><li><label class='ee-shut'>5: \"SWIR2\", double, EPSG:4326<input type='checkbox' class='ee-toggle'></label><ul><li><span class='ee-k'>id:</span><span class='ee-v'>SWIR2</span></li><li><span class='ee-k'>crs:</span><span class='ee-v'>EPSG:4326</span></li><li><label class='ee-shut'>crs_transform: [1, 0, 0, 0, 1, 0]<input type='checkbox' class='ee-toggle'></label><ul><li><span class='ee-k'>0:</span><span class='ee-v'>1</span></li><li><span class='ee-k'>1:</span><span class='ee-v'>0</span></li><li><span class='ee-k'>2:</span><span class='ee-v'>0</span></li><li><span class='ee-k'>3:</span><span class='ee-v'>0</span></li><li><span class='ee-k'>4:</span><span class='ee-v'>1</span></li><li><span class='ee-k'>5:</span><span class='ee-v'>0</span></li></ul></li><li><label class='ee-shut'>data_type: double<input type='checkbox' class='ee-toggle'></label><ul><li><span class='ee-k'>type:</span><span class='ee-v'>PixelType</span></li><li><span class='ee-k'>max:</span><span class='ee-v'>1.6022125</span></li><li><span class='ee-k'>min:</span><span class='ee-v'>-0.2</span></li><li><span class='ee-k'>precision:</span><span class='ee-v'>double</span></li></ul></li></ul></li></ul></li></ul></li></ul></div><script>function toggleHeader() {\n",
       "    const parent = this.parentElement;\n",
       "    parent.className = parent.className === \"ee-open\" ? \"ee-shut\" : \"ee-open\";\n",
       "}\n",
       "\n",
       "for (let c of document.getElementsByClassName(\"ee-toggle\")) {\n",
       "    c.onclick = toggleHeader;\n",
       "}</script></div>"
      ],
      "text/plain": [
       "<ee.image.Image at 0x128c3b790>"
      ]
     },
     "execution_count": 88,
     "metadata": {},
     "output_type": "execute_result"
    }
   ],
   "source": [
    "start_year = 2020\n",
    "end_year = 2024\n",
    "compositeMedian = getCompositeMedian(start_year, end_year)\n",
    "compositeMedian"
   ]
  },
  {
   "cell_type": "code",
   "execution_count": 89,
   "metadata": {},
   "outputs": [
    {
     "data": {
      "text/html": [
       "\n",
       "            <style>\n",
       "                .geemap-dark {\n",
       "                    --jp-widgets-color: white;\n",
       "                    --jp-widgets-label-color: white;\n",
       "                    --jp-ui-font-color1: white;\n",
       "                    --jp-layout-color2: #454545;\n",
       "                    background-color: #383838;\n",
       "                }\n",
       "\n",
       "                .geemap-dark .jupyter-button {\n",
       "                    --jp-layout-color3: #383838;\n",
       "                }\n",
       "\n",
       "                .geemap-colab {\n",
       "                    background-color: var(--colab-primary-surface-color, white);\n",
       "                }\n",
       "\n",
       "                .geemap-colab .jupyter-button {\n",
       "                    --jp-layout-color3: var(--colab-primary-surface-color, white);\n",
       "                }\n",
       "            </style>\n",
       "            "
      ],
      "text/plain": [
       "<IPython.core.display.HTML object>"
      ]
     },
     "metadata": {},
     "output_type": "display_data"
    },
    {
     "data": {
      "text/html": [
       "<div><style>:root {\n",
       "  --font-color-primary: var(--jp-content-font-color0, rgba(0, 0, 0, 1));\n",
       "  --font-color-secondary: var(--jp-content-font-color2, rgba(0, 0, 0, 0.6));\n",
       "  --font-color-accent: rgba(123, 31, 162, 1);\n",
       "  --border-color: var(--jp-border-color2, #e0e0e0);\n",
       "  --background-color: var(--jp-layout-color0, white);\n",
       "  --background-color-row-even: var(--jp-layout-color1, white);\n",
       "  --background-color-row-odd: var(--jp-layout-color2, #eeeeee);\n",
       "}\n",
       "\n",
       "html[theme=\"dark\"],\n",
       "body[data-theme=\"dark\"],\n",
       "body.vscode-dark {\n",
       "  --font-color-primary: rgba(255, 255, 255, 1);\n",
       "  --font-color-secondary: rgba(255, 255, 255, 0.6);\n",
       "  --font-color-accent: rgb(173, 132, 190);\n",
       "  --border-color: #2e2e2e;\n",
       "  --background-color: #111111;\n",
       "  --background-color-row-even: #111111;\n",
       "  --background-color-row-odd: #313131;\n",
       "}\n",
       "\n",
       ".ee {\n",
       "  padding: 1em;\n",
       "  line-height: 1.5em;\n",
       "  min-width: 300px;\n",
       "  max-width: 1200px;\n",
       "  overflow-y: scroll;\n",
       "  max-height: 600px;\n",
       "  border: 1px solid var(--border-color);\n",
       "  font-family: monospace;\n",
       "}\n",
       "\n",
       ".ee li {\n",
       "  list-style-type: none;\n",
       "}\n",
       "\n",
       ".ee ul {\n",
       "  padding-left: 1.5em !important;\n",
       "  margin: 0;\n",
       "}\n",
       "\n",
       ".ee > ul {\n",
       "  padding-left: 0 !important;\n",
       "}\n",
       "\n",
       ".ee-open,\n",
       ".ee-shut {\n",
       "  color: var(--font-color-secondary);\n",
       "  cursor: pointer;\n",
       "  margin: 0;\n",
       "}\n",
       "\n",
       ".ee-open:hover,\n",
       ".ee-shut:hover {\n",
       "  color: var(--font-color-primary);\n",
       "}\n",
       "\n",
       ".ee-k {\n",
       "  color: var(--font-color-accent);\n",
       "  margin-right: 6px;\n",
       "}\n",
       "\n",
       ".ee-v {\n",
       "  color: var(--font-color-primary);\n",
       "}\n",
       "\n",
       ".ee-toggle {\n",
       "  display: none;\n",
       "}\n",
       "\n",
       ".ee-shut + ul {\n",
       "  display: none;\n",
       "}\n",
       "\n",
       ".ee-open + ul {\n",
       "  display: block;\n",
       "}\n",
       "\n",
       ".ee-shut::before {\n",
       "  display: inline-block;\n",
       "  content: \"▼\";\n",
       "  margin-right: 6px;\n",
       "  transform: rotate(-90deg);\n",
       "  transition: transform 0.2s;\n",
       "}\n",
       "\n",
       ".ee-open::before {\n",
       "  transform: rotate(0deg);\n",
       "  display: inline-block;\n",
       "  content: \"▼\";\n",
       "  margin-right: 6px;\n",
       "  transition: transform 0.2s;\n",
       "}\n",
       "</style><div class='ee'><ul><li><label class='ee-shut'>Image projects/ee-itb-kbu/assets/4yrKBU/classified_2021_2024 (1 band)<input type='checkbox' class='ee-toggle'></label><ul><li><span class='ee-k'>type:</span><span class='ee-v'>Image</span></li><li><span class='ee-k'>id:</span><span class='ee-v'>projects/ee-itb-kbu/assets/4yrKBU/classified_2021_2024</span></li><li><span class='ee-k'>version:</span><span class='ee-v'>1719892470607850.0</span></li><li><label class='ee-shut'>bands: List (1 element)<input type='checkbox' class='ee-toggle'></label><ul><li><label class='ee-shut'>0: \"classification\", signed int32, EPSG:4326, 1122x769 px<input type='checkbox' class='ee-toggle'></label><ul><li><span class='ee-k'>id:</span><span class='ee-v'>classification</span></li><li><span class='ee-k'>crs:</span><span class='ee-v'>EPSG:4326</span></li><li><label class='ee-shut'>crs_transform: List (6 elements)<input type='checkbox' class='ee-toggle'></label><ul><li><span class='ee-k'>0:</span><span class='ee-v'>0.00026949458523585647</span></li><li><span class='ee-k'>1:</span><span class='ee-v'>0</span></li><li><span class='ee-k'>2:</span><span class='ee-v'>107.45584546567828</span></li><li><span class='ee-k'>3:</span><span class='ee-v'>0</span></li><li><span class='ee-k'>4:</span><span class='ee-v'>-0.00026949458523585647</span></li><li><span class='ee-k'>5:</span><span class='ee-v'>-6.7268543420722136</span></li></ul></li><li><label class='ee-shut'>data_type: signed int32<input type='checkbox' class='ee-toggle'></label><ul><li><span class='ee-k'>type:</span><span class='ee-v'>PixelType</span></li><li><span class='ee-k'>max:</span><span class='ee-v'>2147483647</span></li><li><span class='ee-k'>min:</span><span class='ee-v'>-2147483648</span></li><li><span class='ee-k'>precision:</span><span class='ee-v'>int</span></li></ul></li><li><label class='ee-shut'>dimensions: [1122, 769]<input type='checkbox' class='ee-toggle'></label><ul><li><span class='ee-k'>0:</span><span class='ee-v'>1122</span></li><li><span class='ee-k'>1:</span><span class='ee-v'>769</span></li></ul></li></ul></li></ul></li><li><label class='ee-shut'>properties: Object (2 properties)<input type='checkbox' class='ee-toggle'></label><ul><li><span class='ee-k'>system:asset_size:</span><span class='ee-v'>218442</span></li><li><label class='ee-shut'>system:footprint: LinearRing (19 vertices)<input type='checkbox' class='ee-toggle'></label><ul><li><span class='ee-k'>type:</span><span class='ee-v'>LinearRing</span></li><li><label class='ee-shut'>coordinates: List (19 elements)<input type='checkbox' class='ee-toggle'></label><ul><li><label class='ee-shut'>0: [107.75811758886886, -6.726721241885109]<input type='checkbox' class='ee-toggle'></label><ul><li><span class='ee-k'>0:</span><span class='ee-v'>107.75811758886886</span></li><li><span class='ee-k'>1:</span><span class='ee-v'>-6.726721241885109</span></li></ul></li><li><label class='ee-shut'>1: [107.75808352355651, -6.726719145619476]<input type='checkbox' class='ee-toggle'></label><ul><li><span class='ee-k'>0:</span><span class='ee-v'>107.75808352355651</span></li><li><span class='ee-k'>1:</span><span class='ee-v'>-6.726719145619476</span></li></ul></li><li><label class='ee-shut'>2: [107.4559802831046, -6.726719092658943]<input type='checkbox' class='ee-toggle'></label><ul><li><span class='ee-k'>0:</span><span class='ee-v'>107.4559802831046</span></li><li><span class='ee-k'>1:</span><span class='ee-v'>-6.726719092658943</span></li></ul></li><li><label class='ee-shut'>3: [107.45585500448699, -6.726828779839313]<input type='checkbox' class='ee-toggle'></label><ul><li><span class='ee-k'>0:</span><span class='ee-v'>107.45585500448699</span></li><li><span class='ee-k'>1:</span><span class='ee-v'>-6.726828779839313</span></li></ul></li><li><label class='ee-shut'>4: [107.45571690925044, -6.72692216325467]<input type='checkbox' class='ee-toggle'></label><ul><li><span class='ee-k'>0:</span><span class='ee-v'>107.45571690925044</span></li><li><span class='ee-k'>1:</span><span class='ee-v'>-6.72692216325467</span></li></ul></li><li><label class='ee-shut'>5: [107.45571050091118, -6.726955238052687]<input type='checkbox' class='ee-toggle'></label><ul><li><span class='ee-k'>0:</span><span class='ee-v'>107.45571050091118</span></li><li><span class='ee-k'>1:</span><span class='ee-v'>-6.726955238052687</span></li></ul></li><li><label class='ee-shut'>6: [107.45570833471203, -6.726989098227316]<input type='checkbox' class='ee-toggle'></label><ul><li><span class='ee-k'>0:</span><span class='ee-v'>107.45570833471203</span></li><li><span class='ee-k'>1:</span><span class='ee-v'>-6.726989098227316</span></li></ul></li><li><label class='ee-shut'>7: [107.45570824445373, -6.9339609483548195]<input type='checkbox' class='ee-toggle'></label><ul><li><span class='ee-k'>0:</span><span class='ee-v'>107.45570824445373</span></li><li><span class='ee-k'>1:</span><span class='ee-v'>-6.9339609483548195</span></li></ul></li><li><label class='ee-shut'>8: [107.45581872063346, -6.93408528079186]<input type='checkbox' class='ee-toggle'></label><ul><li><span class='ee-k'>0:</span><span class='ee-v'>107.45581872063346</span></li><li><span class='ee-k'>1:</span><span class='ee-v'>-6.93408528079186</span></li></ul></li><li><label class='ee-shut'>9: [107.45591267957799, -6.934222424818724]<input type='checkbox' class='ee-toggle'></label><ul><li><span class='ee-k'>0:</span><span class='ee-v'>107.45591267957799</span></li><li><span class='ee-k'>1:</span><span class='ee-v'>-6.934222424818724</span></li></ul></li><li><label class='ee-shut'>10: [107.45595735747412, -6.9342308854995505]<input type='checkbox' class='ee-toggle'></label><ul><li><span class='ee-k'>0:</span><span class='ee-v'>107.45595735747412</span></li><li><span class='ee-k'>1:</span><span class='ee-v'>-6.9342308854995505</span></li></ul></li><li><label class='ee-shut'>11: [107.75808370427434, -6.934230919422995]<input type='checkbox' class='ee-toggle'></label><ul><li><span class='ee-k'>0:</span><span class='ee-v'>107.75808370427434</span></li><li><span class='ee-k'>1:</span><span class='ee-v'>-6.934230919422995</span></li></ul></li><li><label class='ee-shut'>12: [107.75820894175595, -6.934121202470851]<input type='checkbox' class='ee-toggle'></label><ul><li><span class='ee-k'>0:</span><span class='ee-v'>107.75820894175595</span></li><li><span class='ee-k'>1:</span><span class='ee-v'>-6.934121202470851</span></li></ul></li><li><label class='ee-shut'>13: [107.75834710062949, -6.934027872795484]<input type='checkbox' class='ee-toggle'></label><ul><li><span class='ee-k'>0:</span><span class='ee-v'>107.75834710062949</span></li><li><span class='ee-k'>1:</span><span class='ee-v'>-6.934027872795484</span></li></ul></li><li><label class='ee-shut'>14: [107.7583555943754, -6.933983494131483]<input type='checkbox' class='ee-toggle'></label><ul><li><span class='ee-k'>0:</span><span class='ee-v'>107.7583555943754</span></li><li><span class='ee-k'>1:</span><span class='ee-v'>-6.933983494131483</span></li></ul></li><li><label class='ee-shut'>15: [107.75835550401641, -6.726989121109657]<input type='checkbox' class='ee-toggle'></label><ul><li><span class='ee-k'>0:</span><span class='ee-v'>107.75835550401641</span></li><li><span class='ee-k'>1:</span><span class='ee-v'>-6.726989121109657</span></li></ul></li><li><label class='ee-shut'>16: [107.75824499498066, -6.7268646497402385]<input type='checkbox' class='ee-toggle'></label><ul><li><span class='ee-k'>0:</span><span class='ee-v'>107.75824499498066</span></li><li><span class='ee-k'>1:</span><span class='ee-v'>-6.7268646497402385</span></li></ul></li><li><label class='ee-shut'>17: [107.75815102167277, -6.726727509718407]<input type='checkbox' class='ee-toggle'></label><ul><li><span class='ee-k'>0:</span><span class='ee-v'>107.75815102167277</span></li><li><span class='ee-k'>1:</span><span class='ee-v'>-6.726727509718407</span></li></ul></li><li><label class='ee-shut'>18: [107.75811758886886, -6.726721241885109]<input type='checkbox' class='ee-toggle'></label><ul><li><span class='ee-k'>0:</span><span class='ee-v'>107.75811758886886</span></li><li><span class='ee-k'>1:</span><span class='ee-v'>-6.726721241885109</span></li></ul></li></ul></li></ul></li></ul></li></ul></li></ul></div><script>function toggleHeader() {\n",
       "    const parent = this.parentElement;\n",
       "    parent.className = parent.className === \"ee-open\" ? \"ee-shut\" : \"ee-open\";\n",
       "}\n",
       "\n",
       "for (let c of document.getElementsByClassName(\"ee-toggle\")) {\n",
       "    c.onclick = toggleHeader;\n",
       "}</script></div>"
      ],
      "text/plain": [
       "<ee.image.Image at 0x128c3b2e0>"
      ]
     },
     "execution_count": 89,
     "metadata": {},
     "output_type": "execute_result"
    }
   ],
   "source": [
    "classified = ee.Image('projects/ee-itb-kbu/assets/4yrKBU/classified_2021_2024').select('classification')\n",
    "classified"
   ]
  },
  {
   "cell_type": "code",
   "execution_count": 90,
   "metadata": {},
   "outputs": [
    {
     "data": {
      "text/html": [
       "\n",
       "            <style>\n",
       "                .geemap-dark {\n",
       "                    --jp-widgets-color: white;\n",
       "                    --jp-widgets-label-color: white;\n",
       "                    --jp-ui-font-color1: white;\n",
       "                    --jp-layout-color2: #454545;\n",
       "                    background-color: #383838;\n",
       "                }\n",
       "\n",
       "                .geemap-dark .jupyter-button {\n",
       "                    --jp-layout-color3: #383838;\n",
       "                }\n",
       "\n",
       "                .geemap-colab {\n",
       "                    background-color: var(--colab-primary-surface-color, white);\n",
       "                }\n",
       "\n",
       "                .geemap-colab .jupyter-button {\n",
       "                    --jp-layout-color3: var(--colab-primary-surface-color, white);\n",
       "                }\n",
       "            </style>\n",
       "            "
      ],
      "text/plain": [
       "<IPython.core.display.HTML object>"
      ]
     },
     "metadata": {},
     "output_type": "display_data"
    },
    {
     "data": {
      "application/vnd.jupyter.widget-view+json": {
       "model_id": "5175c45f462243eb82abe222cb233bdb",
       "version_major": 2,
       "version_minor": 0
      },
      "text/plain": [
       "Map(center=[-6.814744, 107.60981], controls=(ZoomControl(options=['position', 'zoom_in_text', 'zoom_in_title',…"
      ]
     },
     "execution_count": 90,
     "metadata": {},
     "output_type": "execute_result"
    }
   ],
   "source": [
    "m = geemap.Map(center=[-6.814744, 107.609810], zoom=12)\n",
    "\n",
    "vis_params = {\n",
    "        'bands': ['R', 'G', 'B'], \n",
    "        'min': 0,\n",
    "        'max': 0.3\n",
    "    }\n",
    "\n",
    "class_params = {\n",
    "    'min': 0,\n",
    "    'max': 7,\n",
    "    'palette': [\n",
    "        '006400',  # Forest\n",
    "        'ffbb22',  # Shrubland\n",
    "        'ffff4c',  # Grassland\n",
    "        'f096ff',  # Cropland\n",
    "        'fa0000',  # Built-up\n",
    "        'b4b4b4',  # Bare / Sparse vegetation\n",
    "        '0064c8',  # Permanent water bodies\n",
    "        '0096a0',  # Herbaceous wetland\n",
    "    ]\n",
    "}\n",
    "\n",
    "\n",
    "left_layer = geemap.ee_tile_layer(compositeMedian,vis_params, \"Classified 2024\")\n",
    "right_layer = geemap.ee_tile_layer(classified,class_params, \"Classified 2024\")\n",
    "\n",
    "m.split_map(left_layer, right_layer)\n",
    "m"
   ]
  },
  {
   "cell_type": "markdown",
   "metadata": {},
   "source": [
    "## Time Slider"
   ]
  },
  {
   "cell_type": "markdown",
   "metadata": {},
   "source": [
    "It’s time to enjoy ourselves by watching the changes unfold over time, using the images we’ve generated, rather than directly from the raw Landsat imagery"
   ]
  },
  {
   "cell_type": "code",
   "execution_count": 91,
   "metadata": {},
   "outputs": [
    {
     "data": {
      "text/html": [
       "\n",
       "            <style>\n",
       "                .geemap-dark {\n",
       "                    --jp-widgets-color: white;\n",
       "                    --jp-widgets-label-color: white;\n",
       "                    --jp-ui-font-color1: white;\n",
       "                    --jp-layout-color2: #454545;\n",
       "                    background-color: #383838;\n",
       "                }\n",
       "\n",
       "                .geemap-dark .jupyter-button {\n",
       "                    --jp-layout-color3: #383838;\n",
       "                }\n",
       "\n",
       "                .geemap-colab {\n",
       "                    background-color: var(--colab-primary-surface-color, white);\n",
       "                }\n",
       "\n",
       "                .geemap-colab .jupyter-button {\n",
       "                    --jp-layout-color3: var(--colab-primary-surface-color, white);\n",
       "                }\n",
       "            </style>\n",
       "            "
      ],
      "text/plain": [
       "<IPython.core.display.HTML object>"
      ]
     },
     "metadata": {},
     "output_type": "display_data"
    }
   ],
   "source": [
    "images = [\n",
    "    ee.Image('projects/ee-itb-kbu/assets/4yrKBU/classified_1989_1992'),\n",
    "    ee.Image('projects/ee-itb-kbu/assets/4yrKBU/classified_1993_1996'),\n",
    "    ee.Image('projects/ee-itb-kbu/assets/4yrKBU/classified_1997_2000'),\n",
    "    ee.Image('projects/ee-itb-kbu/assets/4yrKBU/classified_2001_2004'),\n",
    "    ee.Image('projects/ee-itb-kbu/assets/4yrKBU/classified_2005_2008'),\n",
    "    ee.Image('projects/ee-itb-kbu/assets/4yrKBU/classified_2009_2012'),\n",
    "    ee.Image('projects/ee-itb-kbu/assets/4yrKBU/classified_2013_2016'),\n",
    "    ee.Image('projects/ee-itb-kbu/assets/4yrKBU/classified_2017_2020'),\n",
    "    ee.Image('projects/ee-itb-kbu/assets/4yrKBU/classified_2021_2024'),\n",
    "]\n",
    "image_collection = ee.ImageCollection(images)\n",
    "\n",
    "years = [1992, 1996, 2000, 2004, 2008, 2012, 2016, 2020, 2024]\n",
    "\n",
    "def add_time(image, year):\n",
    "    timestamp = ee.Date.fromYMD(year, 1, 1).millis()\n",
    "    return image.set('system:time_start', timestamp)\n",
    "\n",
    "images_with_time = []\n",
    "for i, year in enumerate(years):\n",
    "    image = image_collection.toList(image_collection.size()).get(i)\n",
    "    image = ee.Image(image)\n",
    "    images_with_time.append(add_time(image, year))\n",
    "\n",
    "collection_with_time = ee.ImageCollection(images_with_time)"
   ]
  },
  {
   "cell_type": "code",
   "execution_count": 92,
   "metadata": {},
   "outputs": [
    {
     "data": {
      "text/html": [
       "\n",
       "            <style>\n",
       "                .geemap-dark {\n",
       "                    --jp-widgets-color: white;\n",
       "                    --jp-widgets-label-color: white;\n",
       "                    --jp-ui-font-color1: white;\n",
       "                    --jp-layout-color2: #454545;\n",
       "                    background-color: #383838;\n",
       "                }\n",
       "\n",
       "                .geemap-dark .jupyter-button {\n",
       "                    --jp-layout-color3: #383838;\n",
       "                }\n",
       "\n",
       "                .geemap-colab {\n",
       "                    background-color: var(--colab-primary-surface-color, white);\n",
       "                }\n",
       "\n",
       "                .geemap-colab .jupyter-button {\n",
       "                    --jp-layout-color3: var(--colab-primary-surface-color, white);\n",
       "                }\n",
       "            </style>\n",
       "            "
      ],
      "text/plain": [
       "<IPython.core.display.HTML object>"
      ]
     },
     "metadata": {},
     "output_type": "display_data"
    },
    {
     "data": {
      "application/vnd.jupyter.widget-view+json": {
       "model_id": "c06abd86c6d341f8b865e4265c5da84e",
       "version_major": 2,
       "version_minor": 0
      },
      "text/plain": [
       "Map(center=[-6.814744, 107.60981], controls=(WidgetControl(options=['position', 'transparent_bg'], widget=Sear…"
      ]
     },
     "execution_count": 92,
     "metadata": {},
     "output_type": "execute_result"
    },
    {
     "name": "stderr",
     "output_type": "stream",
     "text": [
      "No such comm: 294f36d152d04def99824ef779be2b38\n",
      "No such comm: 294f36d152d04def99824ef779be2b38\n",
      "No such comm: db5ed55686864f1fb09d4dcf61cff3da\n",
      "No such comm: f755decccf184815b35b30c6889f11ed\n",
      "No such comm: 0433ed72e1b14e57ba328d09ee94a8b3\n",
      "No such comm: 8909d8e9c8804f0f9e5773f35ce4e3d5\n",
      "No such comm: 2a4178e0269048aabc57e29da4a4f705\n",
      "No such comm: 1b52147d0bfd4dc881c9117106fb7e5c\n",
      "No such comm: 311f0db2b94e428a804445a099d6f291\n",
      "No such comm: d5ad86ac39734ee58fbdede473593b56\n",
      "No such comm: ba2cbe440b5848b1b100673799c9dee5\n",
      "No such comm: adebbaa236374d15b47e72614d878110\n",
      "No such comm: 1a34614f7c2c4e4a87cdcf3d5acdd2fa\n",
      "No such comm: 9fb122f8ac5b4ef0bef64120753f18ee\n",
      "No such comm: 746849fdcb7f445d90f8dc1972be09cd\n",
      "No such comm: bf334fe7703648ee9336255a5aeed12f\n",
      "No such comm: 9b3a8def4fc6416db47341f21ecef476\n",
      "No such comm: 9b3a8def4fc6416db47341f21ecef476\n",
      "No such comm: 4636831b9dcc47b782e4f8de69b5281f\n",
      "No such comm: 4636831b9dcc47b782e4f8de69b5281f\n",
      "No such comm: 5e198a585ef54a8c8cc896e6a67866a3\n",
      "No such comm: ed21a593375d427080e6f6c02eeaa442\n",
      "No such comm: f8c962c525e74b3eb841fb659eff4061\n",
      "No such comm: e945362108a84d4eb69041ae35dc1f20\n",
      "No such comm: 7358dbffe6e046579aeb5b7a59e2d739\n",
      "No such comm: f4c4686ed11c4caabf04ada9880208cc\n",
      "No such comm: 710445a311ad44c7b7cfef0cc7872adf\n",
      "No such comm: 0eda209bc9c74c228dd99f7a64840a7e\n",
      "No such comm: 199ef2b909da46bbba271e4193c37ad2\n",
      "No such comm: 0010650907ee4ae4a690a073d560f6bb\n",
      "No such comm: 807d08630e0648aab028d219f0707052\n",
      "No such comm: 23ea8f0facfd43df9c28b827e65ebe04\n",
      "No such comm: 39b94f3fb51946629e3349ed13651740\n",
      "No such comm: a3f174a4bcae47958f622f116a160a93\n",
      "No such comm: 3f07f6f075724ff8876f6567b0b27a33\n",
      "No such comm: 1708dc6485634218840cf1f070ad9fc2\n",
      "No such comm: 7b0980bada784a049524f6195faea45f\n",
      "No such comm: 65bf130a61014926b23a59efd59c7944\n",
      "No such comm: bf0ce4e8d5f743809a199f24316e993f\n",
      "No such comm: 054c73ecaff94953961f787ffeb606d2\n",
      "No such comm: 1575b48b1c6b4da186e99da2ee679439\n",
      "No such comm: 3bf16af245b14c3da0787bb68ed51c2c\n",
      "No such comm: b89caaba9c104ac988065555cae2a52d\n",
      "No such comm: 41273dbd620e454f949b9c548d5e5a4a\n",
      "No such comm: 348502fd6f7842ccb0a88fe40043e4a3\n",
      "No such comm: 2ccc6daf983e47eb8cd0dd0cc6f2c9e8\n",
      "No such comm: 7c35a97527bd4d199094cdb055ed00bf\n",
      "No such comm: a7101a69433544759e23843eebc96a1a\n",
      "No such comm: 2ebc9d35ea2d4e54a048f62cf4b0acb2\n",
      "No such comm: 5e7f59e6fe0f455da081f82f7596a052\n",
      "No such comm: 6eb43b4647ac4718ab67968b6d640ee9\n",
      "No such comm: f49deab413a44085a86a6e1c55e16fbb\n",
      "No such comm: fa2acda4f99e4dd29d9980ff31104f10\n",
      "No such comm: 24e4aa5835af4a7ea67050d676f212f3\n",
      "No such comm: 0f6a9c0a61964d3e861c37a192797fe7\n",
      "No such comm: 927d769236f74ce0a2e6a1dae7f986e7\n",
      "No such comm: e50d5e343ddf4483a1445fd5436e807b\n",
      "No such comm: 14b74004b49a457bafeefc96073b817d\n",
      "No such comm: 9b3f0d461d224936812419f602a77c50\n",
      "No such comm: 0f868c9bd015438c9f72e0624fd1f528\n",
      "No such comm: 47f8812facb840fa9a7040a43ebbd14d\n",
      "No such comm: 0cd9af9482914437ab0c66da90fb81c0\n",
      "No such comm: 8f7fd2e9a6b84467bf4a3120d0d8d1a5\n",
      "No such comm: 73f866b6f2234013910db28bfdd9fec4\n",
      "No such comm: dd4358e3fc694727a733756f46a3575a\n"
     ]
    }
   ],
   "source": [
    "m = geemap.Map(center=[-6.814744, 107.609810], zoom=12)\n",
    "collection_with_time = ee.ImageCollection(images_with_time)\n",
    "\n",
    "vis_params = {\n",
    "    'min': 0,\n",
    "    'max': 7,\n",
    "    'palette': [\n",
    "        '006400',  # Forest\n",
    "        'ffbb22',  # Shrubland\n",
    "        'ffff4c',  # Grassland\n",
    "        'f096ff',  # Cropland\n",
    "        'fa0000',  # Built-up\n",
    "        'b4b4b4',  # Bare / Sparse vegetation\n",
    "        '0064c8',  # Permanent water bodies\n",
    "        '0096a0',  # Herbaceous wetland\n",
    "    ]\n",
    "}\n",
    "\n",
    "m.add_time_slider(collection_with_time, vis_params, time_interval=2)\n",
    "m"
   ]
  },
  {
   "cell_type": "markdown",
   "metadata": {},
   "source": [
    "Now, we’ve seen the visual evidence in front of our eyes—KBU's green areas are shrinking significantly. We also observed earlier that from 2016 onward, the situation hasn’t improved;It looks like it's gotten worse. \n",
    "\n",
    "\n",
    "But thats it? Of course not.\n",
    "We extracted the data from our land cover classification. By multiplying the land cover with emission factors from the FREL document, we created a dataset containing carbon stock data. Now, we’ll conduct statistical analysis on this dataset. We will measure the effect of the policy\n"
   ]
  },
  {
   "cell_type": "markdown",
   "metadata": {},
   "source": [
    "## Extract data & Calculate"
   ]
  },
  {
   "cell_type": "markdown",
   "metadata": {},
   "source": [
    "I’ve already prepared the dummy data, so we can skip this part"
   ]
  },
  {
   "cell_type": "markdown",
   "metadata": {},
   "source": [
    "### Extract data from Classified Images"
   ]
  },
  {
   "cell_type": "code",
   "execution_count": null,
   "metadata": {},
   "outputs": [],
   "source": [
    "kbu_fc = ee.FeatureCollection(\"projects/ee-itb-kbu/assets/featureCollection/desaKBU\")\n",
    "landcover_images = ee.ImageCollection([\n",
    "    ee.Image(\"projects/ee-itb-kbu/assets/4yrKBU/classified_2021_2024\").set('year_range', '2021_2024'),\n",
    "    ee.Image(\"projects/ee-itb-kbu/assets/4yrKBU/classified_2017_2020\").set('year_range', '2017_2020'),\n",
    "    ee.Image(\"projects/ee-itb-kbu/assets/4yrKBU/classified_2013_2016\").set('year_range', '2013_2016'),\n",
    "    ee.Image(\"projects/ee-itb-kbu/assets/4yrKBU/classified_2009_2012\").set('year_range', '2009_2012'),\n",
    "    ee.Image(\"projects/ee-itb-kbu/assets/4yrKBU/classified_2005_2008\").set('year_range', '2005_2008'),\n",
    "    ee.Image(\"projects/ee-itb-kbu/assets/4yrKBU/classified_2001_2004\").set('year_range', '2001_2004'),\n",
    "    ee.Image(\"projects/ee-itb-kbu/assets/4yrKBU/classified_1997_2000\").set('year_range', '1997_2000'),\n",
    "    ee.Image(\"projects/ee-itb-kbu/assets/4yrKBU/classified_1993_1996\").set('year_range', '1993_1996'),\n",
    "    ee.Image(\"projects/ee-itb-kbu/assets/4yrKBU/classified_1989_1992\").set('year_range', '1989_1992'),\n",
    "])\n",
    "landcover_images\n"
   ]
  },
  {
   "cell_type": "code",
   "execution_count": null,
   "metadata": {},
   "outputs": [],
   "source": [
    "def calculate_area(feature):\n",
    "    def calculate_area_per_image(image):\n",
    "        landcover_stats = image.reduceRegion(\n",
    "            reducer=ee.Reducer.frequencyHistogram(),\n",
    "            geometry=feature.geometry(),\n",
    "            scale=30, \n",
    "            maxPixels=1e9\n",
    "        )\n",
    "        landcover_dict = ee.Dictionary(landcover_stats.get('classification'))\n",
    "        area_dict = landcover_dict.map(lambda k, v: ee.Number(v).multiply(30).multiply(30).divide(1e4))\n",
    "        return feature.set(area_dict).set('year_range', image.get('year_range'))\n",
    "    \n",
    "    return landcover_images.map(calculate_area_per_image)\n",
    "desa_with_area = kbu_fc.map(calculate_area).flatten()\n",
    "desa_with_area_list = desa_with_area.getInfo()['features']\n",
    "results = []\n",
    "\n",
    "for feature in desa_with_area_list:\n",
    "    properties = feature['properties']\n",
    "    properties['desa'] = feature['id']\n",
    "    properties['year_range'] = properties.get('year_range', 'Unknown')  "
   ]
  },
  {
   "cell_type": "code",
   "execution_count": null,
   "metadata": {},
   "outputs": [],
   "source": [
    "df_results = pd.DataFrame(results)\n",
    "df_results = df_results[['NAMOBJ', 'WADMKC', 'year_range', '0', '1', '2', '3', '4', '5', '7']]\n",
    "df_results = df_results.rename(columns={\n",
    "    'NAMOBJ': 'village',\n",
    "    'WADMKC': 'district',\n",
    "    '0': 'treeCover',\n",
    "    '1': 'schrubland',\n",
    "    '2': 'grassland',\n",
    "    '3': 'cropland',\n",
    "    '4': 'builtUp',\n",
    "    '5': 'bare',\n",
    "    '7': 'water',\n",
    "})\n",
    "df_results"
   ]
  },
  {
   "cell_type": "markdown",
   "metadata": {},
   "source": [
    "### Calculate Carbon Stock"
   ]
  },
  {
   "cell_type": "code",
   "execution_count": null,
   "metadata": {},
   "outputs": [],
   "source": [
    "# Calculate Carbon Stock\n",
    "df_results = df_results.fillna(0)\n",
    "\n",
    "df_results['all_area'] = (\n",
    "    df_results['treeCover'] + df_results['schrubland'] + \n",
    "    df_results['grassland'] + df_results['cropland'] + \n",
    "    df_results['bare'] + df_results['builtUp'] +\n",
    "    df_results['water']\n",
    ")\n",
    "\n",
    "df_results['tC_treeCover'] = df_results['treeCover'] * 347.88 * 0.47\n",
    "df_results['tC_schrub'] = df_results['schrubland'] * 60.39 * 0.47\n",
    "df_results['tC_grass'] = df_results['grassland'] * 4.06 * 0.47\n",
    "df_results['tC_crop'] = df_results['cropland'] * 48.10 * 0.47\n",
    "df_results['tC_bare'] = df_results['bare'] * 2.40 * 0.47\n",
    "df_results['tC_beta'] = (\n",
    "    df_results['treeCover'] * 347.88 + \n",
    "    df_results['schrubland'] * 60.39 + \n",
    "    df_results['grassland'] * 4.06 + \n",
    "    df_results['cropland'] * 48.10 + \n",
    "    df_results['bare'] * 2.40\n",
    ") * 0.47\n",
    "df_results['village'] = df_results['village'].str.upper()\n",
    "df_results['village'] = df_results['village'].str.upper()\n",
    "df_results"
   ]
  },
  {
   "cell_type": "markdown",
   "metadata": {},
   "source": [
    "# Econometrics - The Effect"
   ]
  },
  {
   "cell_type": "markdown",
   "metadata": {},
   "source": [
    "Now, We have the evidence. Next, We'll measure how much the policy’s impact using carbon stock. \n"
   ]
  },
  {
   "cell_type": "markdown",
   "metadata": {},
   "source": [
    "Principles :\n",
    "There are two fundamental concepts in analyzing the impact of policy.\n",
    "\n",
    "First, correlation is not causation. \n",
    "For example, if that picture, we see that using Internet Explorer increase percentage of murder. So,If we stop using Internet Explorer, we’re saving lives“?. \n",
    "\n",
    "Second, we need to make sure that this is the only cause. In other words, We must confirm that any changes we see are due to the policy.\n",
    "\n",
    "\n",
    "There are many techniques, but in this session we use Difference-in-Differences (DiD) it more intuitive."
   ]
  },
  {
   "cell_type": "code",
   "execution_count": null,
   "metadata": {},
   "outputs": [],
   "source": [
    "data = pd.read_csv('/Users/yudhapratama/Documents/APAC/minidemo/Data/carbonStock_dummy.csv')\n",
    "data = data.set_index(['kode','periode'])\n",
    "data"
   ]
  },
  {
   "cell_type": "markdown",
   "metadata": {},
   "source": [
    "To estimate causal effects, most researchers typically use Stata or R because they have been popular for a long time and offer specialized tools like TWANG and MATCHIT. However, more people are now starting to use Python. The good  thing is that you can run R in  your Python project using rpy2, allowing you to use both needed! For this analysis, we'll use a basic model from the linear model called PanelOLS.\n"
   ]
  },
  {
   "cell_type": "code",
   "execution_count": null,
   "metadata": {},
   "outputs": [],
   "source": [
    "from linearmodels.panel import PanelOLS\n",
    "\n",
    "mod = PanelOLS.from_formula('''carbonStock ~ \n",
    "treated + EntityEffects + TimeEffects''',data)\n",
    "\n",
    "clfe = mod.fit(cov_type = 'clustered',\n",
    "cluster_entity = True)\n",
    "print(clfe)"
   ]
  },
  {
   "cell_type": "markdown",
   "metadata": {},
   "source": [
    "Now, let's read the regression table. We'll keep it simple and focus on the key points:\n",
    "\n",
    "- Parameter = -7288.9: This means the treatment caused a decrease in carbon stock by 7288 tons of carbon (tC).\n",
    "- Std. Error: Useful for estimating the confidence interval of the coefficient.\n",
    "- R²: The closer to 1, the better. In causal effect analysis, we don’t focus too much on R² but rather on changes in the coefficient of interest.\n",
    "- Two-tail p-values: If the p-value is less than 0.05, we reject the null hypothesis (H₀). In this case, the treatment is significant at a 95% confidence level.\n",
    "\n",
    "Yes, our model is far from perfect, but I hope the main point comes across.\n",
    "\n",
    "So far, these are our main findings, and there’s still a lot of potential for further Research\n",
    "\n"
   ]
  },
  {
   "cell_type": "markdown",
   "metadata": {},
   "source": []
  }
 ],
 "metadata": {
  "kernelspec": {
   "display_name": "gis",
   "language": "python",
   "name": "python3"
  },
  "language_info": {
   "codemirror_mode": {
    "name": "ipython",
    "version": 3
   },
   "file_extension": ".py",
   "mimetype": "text/x-python",
   "name": "python",
   "nbconvert_exporter": "python",
   "pygments_lexer": "ipython3",
   "version": "3.10.14"
  }
 },
 "nbformat": 4,
 "nbformat_minor": 2
}
